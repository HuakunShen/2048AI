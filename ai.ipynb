{
 "metadata": {
  "language_info": {
   "codemirror_mode": {
    "name": "ipython",
    "version": 3
   },
   "file_extension": ".py",
   "mimetype": "text/x-python",
   "name": "python",
   "nbconvert_exporter": "python",
   "pygments_lexer": "ipython3",
   "version": "3.8.5-final"
  },
  "orig_nbformat": 2,
  "kernelspec": {
   "name": "python3",
   "display_name": "Python 3.8.5 64-bit ('AI': conda)",
   "metadata": {
    "interpreter": {
     "hash": "92d9f3c85f60663215abafe5990436e87cb3042ed3db488452a9e3c8911ac0c8"
    }
   }
  }
 },
 "nbformat": 4,
 "nbformat_minor": 2,
 "cells": [
  {
   "cell_type": "code",
   "execution_count": 1,
   "metadata": {},
   "outputs": [
    {
     "output_type": "stream",
     "name": "stdout",
     "text": [
      "pygame 2.0.1 (SDL 2.0.14, Python 3.8.5)\nHello from the pygame community. https://www.pygame.org/contribute.html\n"
     ]
    }
   ],
   "source": [
    "import game\n",
    "import time\n",
    "import copy\n",
    "import torch\n",
    "import pygame\n",
    "import random\n",
    "import constants\n",
    "import numpy as np"
   ]
  },
  {
   "cell_type": "code",
   "execution_count": 2,
   "metadata": {},
   "outputs": [],
   "source": [
    "ui = game.GameUI()\n",
    "ui.update_ui()"
   ]
  },
  {
   "cell_type": "code",
   "execution_count": 3,
   "metadata": {},
   "outputs": [],
   "source": [
    "g = ui.game"
   ]
  },
  {
   "cell_type": "code",
   "execution_count": 61,
   "metadata": {},
   "outputs": [],
   "source": [
    "g.restart()\n",
    "ui.update_ui()"
   ]
  },
  {
   "cell_type": "code",
   "execution_count": 27,
   "metadata": {},
   "outputs": [
    {
     "output_type": "stream",
     "name": "stdout",
     "text": [
      "CPU times: user 1.4 s, sys: 731 ms, total: 2.13 s\nWall time: 7.86 s\n"
     ]
    }
   ],
   "source": [
    "%%time\n",
    "while not g.get_is_done():\n",
    "    g.move(direction=None, inplace=True)\n",
    "    ui.update_ui()"
   ]
  },
  {
   "cell_type": "code",
   "execution_count": 5,
   "metadata": {},
   "outputs": [],
   "source": [
    "def random_ai_move(game_:game.Game, ui: game.GameUI=None, searches_per_move=10, search_length=10):\n",
    "    scores = np.zeros(4)\n",
    "    init_game_clone = game_.clone()\n",
    "    for first_move_i in range(4):\n",
    "        game_clone1 = init_game_clone.clone()\n",
    "        if ui is not None:\n",
    "            ui.set_game(game_clone1)\n",
    "            ui.update_ui()\n",
    "        first_move = constants.ARROW_KEYS[first_move_i]\n",
    "        matrix, score, changed = game_clone1.move(direction=first_move, inplace=True)\n",
    "        if ui is not None:\n",
    "            ui.set_game(game_clone1)\n",
    "            ui.update_ui()\n",
    "        if changed:\n",
    "            scores[first_move_i] += score\n",
    "        else:\n",
    "            continue\n",
    "        max_cumulative_score = 0\n",
    "        for later_moves in range(searches_per_move):\n",
    "            move_number = 1\n",
    "            game_clone2 = game_clone1.clone()\n",
    "            changed = True\n",
    "            score_cumulative = 0\n",
    "            while changed and move_number < search_length:\n",
    "                matrix, score, changed = game_clone2.move(direction=first_move, inplace=True)\n",
    "                if ui:\n",
    "                    ui.set_game(game_clone2)\n",
    "                    ui.update_ui()\n",
    "                if changed:\n",
    "                    score_cumulative += score\n",
    "                    scores[first_move_i] += score\n",
    "                    move_number += 1\n",
    "            max_cumulative_score = max(max_cumulative_score, score_cumulative)\n",
    "    best_move_index = np.argmax(scores)\n",
    "    best_move = constants.ARROW_KEYS[best_move_index]\n",
    "    return best_move"
   ]
  },
  {
   "cell_type": "code",
   "execution_count": 53,
   "metadata": {},
   "outputs": [
    {
     "output_type": "execute_result",
     "data": {
      "text/plain": [
       "'DOWN'"
      ]
     },
     "metadata": {},
     "execution_count": 53
    }
   ],
   "source": [
    "# g.restart()\n",
    "# ui.update_ui()\n",
    "random_ai_move(g, ui)"
   ]
  },
  {
   "cell_type": "code",
   "execution_count": null,
   "metadata": {},
   "outputs": [],
   "source": []
  },
  {
   "cell_type": "code",
   "execution_count": 6,
   "metadata": {},
   "outputs": [
    {
     "output_type": "stream",
     "name": "stdout",
     "text": [
      "done, 177 iters, max_val: 128\nCPU times: user 29.6 s, sys: 878 ms, total: 30.4 s\nWall time: 30.1 s\n"
     ]
    }
   ],
   "source": [
    "%%time\n",
    "constants.RANDOM_SEED = 86\n",
    "g.restart()\n",
    "ui.update_ui()\n",
    "for i in range(1500):\n",
    "    move = random_ai_move(game_=g, searches_per_move=20, search_length=10)\n",
    "    g.move(move)\n",
    "    ui.update_ui()\n",
    "    if g.get_is_done():\n",
    "        max_val = g.get_max_val()\n",
    "        print(f\"done, {i} iters, max_val: {max_val}\")\n",
    "        ui.update_ui()\n",
    "        break\n",
    "    if g.has_won():\n",
    "        print(f\"won in {i} moves\")\n",
    "        break"
   ]
  },
  {
   "cell_type": "code",
   "execution_count": null,
   "metadata": {},
   "outputs": [],
   "source": [
    "pygame.quit()"
   ]
  }
 ]
}