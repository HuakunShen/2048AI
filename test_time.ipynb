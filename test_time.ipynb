{
 "metadata": {
  "language_info": {
   "codemirror_mode": {
    "name": "ipython",
    "version": 3
   },
   "file_extension": ".py",
   "mimetype": "text/x-python",
   "name": "python",
   "nbconvert_exporter": "python",
   "pygments_lexer": "ipython3",
   "version": "3.8.5-final"
  },
  "orig_nbformat": 2,
  "kernelspec": {
   "name": "python3",
   "display_name": "Python 3",
   "language": "python"
  }
 },
 "nbformat": 4,
 "nbformat_minor": 2,
 "cells": [
  {
   "cell_type": "code",
   "execution_count": 41,
   "metadata": {},
   "outputs": [],
   "source": [
    "import game\n",
    "import torch\n",
    "import constants\n",
    "import numpy as np\n",
    "from game import TorchStaticBoard\n",
    "from torch import Tensor"
   ]
  },
  {
   "cell_type": "code",
   "execution_count": 95,
   "metadata": {},
   "outputs": [],
   "source": [
    "matrix = torch.Tensor([\n",
    "    [0, 0, 0, 2],\n",
    "    [2, 0, 0, 2],\n",
    "    [0, 0, 0, 0],\n",
    "    [0, 0, 0, 0]\n",
    "])"
   ]
  },
  {
   "cell_type": "code",
   "execution_count": 96,
   "metadata": {},
   "outputs": [
    {
     "output_type": "stream",
     "name": "stdout",
     "text": [
      "init random seed to 2048\nCPU times: user 594 µs, sys: 96 µs, total: 690 µs\nWall time: 617 µs\n"
     ]
    }
   ],
   "source": [
    "%%time\n",
    "g = game.Game(matrix=matrix)"
   ]
  },
  {
   "cell_type": "code",
   "execution_count": 99,
   "metadata": {},
   "outputs": [
    {
     "output_type": "stream",
     "name": "stdout",
     "text": [
      "CPU times: user 2.69 ms, sys: 0 ns, total: 2.69 ms\nWall time: 2.08 ms\n"
     ]
    },
    {
     "output_type": "execute_result",
     "data": {
      "text/plain": [
       "(tensor([[0., 0., 0., 2.],\n",
       "         [2., 0., 0., 2.],\n",
       "         [0., 0., 0., 0.],\n",
       "         [0., 2., 0., 0.]]),\n",
       " 4,\n",
       " True)"
      ]
     },
     "metadata": {},
     "execution_count": 99
    }
   ],
   "source": [
    "%%time\n",
    "g.move(constants.RIGHT, inplace=False)"
   ]
  },
  {
   "cell_type": "code",
   "execution_count": 92,
   "metadata": {},
   "outputs": [
    {
     "output_type": "stream",
     "name": "stdout",
     "text": [
      "CPU times: user 1.79 ms, sys: 287 µs, total: 2.08 ms\nWall time: 1.55 ms\n"
     ]
    },
    {
     "output_type": "execute_result",
     "data": {
      "text/plain": [
       "(tensor([[0., 0., 0., 4.],\n",
       "         [0., 0., 0., 8.],\n",
       "         [0., 0., 0., 2.],\n",
       "         [0., 0., 0., 2.]]),\n",
       " 0,\n",
       " False)"
      ]
     },
     "metadata": {},
     "execution_count": 92
    }
   ],
   "source": [
    "%%time\n",
    "TorchStaticBoard.move(matrix=matrix, direction=constants.RIGHT, inplace=True)"
   ]
  },
  {
   "cell_type": "code",
   "execution_count": 114,
   "metadata": {},
   "outputs": [
    {
     "output_type": "stream",
     "name": "stdout",
     "text": [
      "CPU times: user 612 µs, sys: 0 ns, total: 612 µs\nWall time: 299 µs\n"
     ]
    },
    {
     "output_type": "execute_result",
     "data": {
      "text/plain": [
       "tensor([2, 0])"
      ]
     },
     "metadata": {},
     "execution_count": 114
    }
   ],
   "source": [
    "%%time\n",
    "TorchStaticBoard.get_random_empty_cell_coordinate(matrix)"
   ]
  },
  {
   "cell_type": "code",
   "execution_count": 115,
   "metadata": {},
   "outputs": [
    {
     "output_type": "stream",
     "name": "stdout",
     "text": [
      "CPU times: user 599 µs, sys: 96 µs, total: 695 µs\nWall time: 341 µs\n"
     ]
    },
    {
     "output_type": "execute_result",
     "data": {
      "text/plain": [
       "tensor([[0, 0],\n",
       "        [0, 1],\n",
       "        [0, 2],\n",
       "        [1, 1],\n",
       "        [1, 2],\n",
       "        [2, 0],\n",
       "        [2, 1],\n",
       "        [2, 2],\n",
       "        [2, 3],\n",
       "        [3, 0],\n",
       "        [3, 1],\n",
       "        [3, 2],\n",
       "        [3, 3]])"
      ]
     },
     "metadata": {},
     "execution_count": 115
    }
   ],
   "source": [
    "%%time\n",
    "TorchStaticBoard.get_empty_coordinates(matrix)"
   ]
  },
  {
   "cell_type": "code",
   "execution_count": 88,
   "metadata": {},
   "outputs": [
    {
     "output_type": "stream",
     "name": "stdout",
     "text": [
      "CPU times: user 571 µs, sys: 58 µs, total: 629 µs\nWall time: 446 µs\n"
     ]
    },
    {
     "output_type": "execute_result",
     "data": {
      "text/plain": [
       "(tensor([[0., 2., 0., 2.],\n",
       "         [2., 2., 2., 2.],\n",
       "         [0., 0., 0., 2.],\n",
       "         [0., 0., 0., 2.]]),\n",
       " True)"
      ]
     },
     "metadata": {},
     "execution_count": 88
    }
   ],
   "source": [
    "%%time\n",
    "TorchStaticBoard.set_random_cell(matrix, inplace=True)"
   ]
  },
  {
   "cell_type": "code",
   "execution_count": 101,
   "metadata": {},
   "outputs": [
    {
     "output_type": "stream",
     "name": "stdout",
     "text": [
      "CPU times: user 1.61 ms, sys: 0 ns, total: 1.61 ms\nWall time: 1.15 ms\n"
     ]
    },
    {
     "output_type": "execute_result",
     "data": {
      "text/plain": [
       "(tensor([0, 0, 0, 4]), 4, True)"
      ]
     },
     "metadata": {},
     "execution_count": 101
    }
   ],
   "source": [
    "%%time\n",
    "TorchStaticBoard.collapse_array(torch.tensor([0, 2, 0, 2]))"
   ]
  },
  {
   "cell_type": "code",
   "execution_count": 79,
   "metadata": {},
   "outputs": [
    {
     "output_type": "execute_result",
     "data": {
      "text/plain": [
       "tensor([[0., 0., 0., 2.],\n",
       "        [2., 2., 0., 2.],\n",
       "        [0., 0., 0., 0.],\n",
       "        [0., 0., 0., 0.]])"
      ]
     },
     "metadata": {},
     "execution_count": 79
    }
   ],
   "source": [
    "matrix"
   ]
  },
  {
   "cell_type": "code",
   "execution_count": 83,
   "metadata": {},
   "outputs": [
    {
     "output_type": "stream",
     "name": "stdout",
     "text": [
      "CPU times: user 702 µs, sys: 113 µs, total: 815 µs\nWall time: 484 µs\n"
     ]
    },
    {
     "output_type": "execute_result",
     "data": {
      "text/plain": [
       "False"
      ]
     },
     "metadata": {},
     "execution_count": 83
    }
   ],
   "source": [
    "%%time\n",
    "TorchStaticBoard.compute_is_done(matrix)"
   ]
  },
  {
   "cell_type": "code",
   "execution_count": 48,
   "metadata": {},
   "outputs": [
    {
     "output_type": "stream",
     "name": "stdout",
     "text": [
      "CPU times: user 817 µs, sys: 0 ns, total: 817 µs\nWall time: 413 µs\n"
     ]
    },
    {
     "output_type": "execute_result",
     "data": {
      "text/plain": [
       "tensor([[0, 0, 0, 0],\n",
       "        [0, 0, 0, 0],\n",
       "        [0, 0, 0, 0],\n",
       "        [0, 0, 0, 0]], dtype=torch.int32)"
      ]
     },
     "metadata": {},
     "execution_count": 48
    }
   ],
   "source": [
    "%%time\n",
    "game.TorchStaticBoard.get_empty_matrix()"
   ]
  },
  {
   "cell_type": "code",
   "execution_count": 102,
   "metadata": {},
   "outputs": [],
   "source": [
    "def collapse_arr(arr: Tensor, reverse=False):\n",
    "    \"\"\"\n",
    "    collapse an array in left-to-right direction in 2048-way inplace, this is either a row or an column\n",
    "    :param array: Tensor Array\n",
    "    :return:\n",
    "    \"\"\"\n",
    "    arr_len = len(arr)\n",
    "    changed = False\n",
    "    score = 0\n",
    "    has_merged_arr = torch.zeros_like(arr)\n",
    "    for i in range(arr_len - 2, -1, -1):\n",
    "        curr_i = i\n",
    "        for next_i in range(i + 1, arr_len, 1):\n",
    "            if arr[next_i] == 0 and arr[curr_i] != 0:\n",
    "                arr[next_i] = arr[curr_i]\n",
    "                arr[curr_i] = 0\n",
    "                curr_i = next_i\n",
    "                changed = True\n",
    "            elif arr[curr_i] == arr[next_i] and not has_merged_arr[next_i] and arr[curr_i] != 0:\n",
    "                # merge case\n",
    "                arr[next_i] *= 2\n",
    "                arr[curr_i] = 0\n",
    "                has_merged_arr[next_i] = 1\n",
    "                score += int(arr[next_i])\n",
    "                changed = True\n",
    "                break\n",
    "            else:\n",
    "                break\n",
    "    return arr, score, changed"
   ]
  },
  {
   "cell_type": "code",
   "execution_count": 107,
   "metadata": {},
   "outputs": [],
   "source": [
    "arr = Tensor([0, 2, 0, 2])"
   ]
  },
  {
   "cell_type": "code",
   "execution_count": 111,
   "metadata": {},
   "outputs": [
    {
     "output_type": "stream",
     "name": "stdout",
     "text": [
      "CPU times: user 1.41 ms, sys: 22 µs, total: 1.43 ms\nWall time: 802 µs\n"
     ]
    },
    {
     "output_type": "execute_result",
     "data": {
      "text/plain": [
       "(tensor([0., 0., 0., 4.]), 0, False)"
      ]
     },
     "metadata": {},
     "execution_count": 111
    }
   ],
   "source": [
    "%%time\n",
    "collapse_arr(arr)"
   ]
  },
  {
   "cell_type": "code",
   "execution_count": 105,
   "metadata": {},
   "outputs": [],
   "source": [
    "def collapse_array(arr: Tensor, reverse=False):\n",
    "    \"\"\"\n",
    "    collapse an array in left-to-right direction in 2048-way inplace, this is either a row or an column\n",
    "    :param array: Tensor Array\n",
    "    :return:\n",
    "    \"\"\"\n",
    "    arr_len = len(arr)\n",
    "    changed = False\n",
    "    score = 0\n",
    "    has_merged_arr = torch.zeros_like(arr)\n",
    "    for i in range(1 if reverse else arr_len - 2, arr_len if reverse else -1, 1 if reverse else -1):\n",
    "        curr_i = i\n",
    "        for next_i in range(i + (-1 if reverse else 1), -1 if reverse else arr_len, -1 if reverse else 1):\n",
    "            if arr[next_i] == 0 and arr[curr_i] != 0:\n",
    "                arr[next_i] = arr[curr_i]\n",
    "                arr[curr_i] = 0\n",
    "                curr_i = next_i\n",
    "                changed = True\n",
    "            elif arr[curr_i] == arr[next_i] and not has_merged_arr[next_i] and arr[curr_i] != 0:\n",
    "                # merge case\n",
    "                arr[next_i] *= 2\n",
    "                arr[curr_i] = 0\n",
    "                has_merged_arr[next_i] = 1\n",
    "                score += int(arr[next_i])\n",
    "                changed = True\n",
    "                break\n",
    "            else:\n",
    "                break\n",
    "    return arr, score, changed\n"
   ]
  },
  {
   "cell_type": "code",
   "execution_count": 113,
   "metadata": {},
   "outputs": [
    {
     "output_type": "stream",
     "name": "stdout",
     "text": [
      "CPU times: user 1.5 ms, sys: 241 µs, total: 1.75 ms\nWall time: 944 µs\n"
     ]
    },
    {
     "output_type": "execute_result",
     "data": {
      "text/plain": [
       "(tensor([0., 0., 0., 4.]), 0, False)"
      ]
     },
     "metadata": {},
     "execution_count": 113
    }
   ],
   "source": [
    "%%time\n",
    "collapse_arr(arr)"
   ]
  },
  {
   "cell_type": "code",
   "execution_count": null,
   "metadata": {},
   "outputs": [],
   "source": [
    "%%time\n"
   ]
  },
  {
   "cell_type": "code",
   "execution_count": 54,
   "metadata": {},
   "outputs": [
    {
     "output_type": "stream",
     "name": "stdout",
     "text": [
      "CPU times: user 4 µs, sys: 0 ns, total: 4 µs\nWall time: 8.34 µs\n"
     ]
    },
    {
     "output_type": "execute_result",
     "data": {
      "text/plain": [
       "tensor([[0., 0., 0., 2.],\n",
       "        [2., 0., 0., 2.],\n",
       "        [0., 0., 0., 0.],\n",
       "        [0., 0., 0., 0.]])"
      ]
     },
     "metadata": {},
     "execution_count": 54
    }
   ],
   "source": [
    "%%time\n",
    "matrix"
   ]
  },
  {
   "cell_type": "code",
   "execution_count": 124,
   "metadata": {},
   "outputs": [],
   "source": [
    "def get_empty_coordinates(matrix: Tensor) -> Tensor:\n",
    "    return torch.nonzero(matrix == 0)\n",
    "\n",
    "def get_empty_coordinates_loop(matrix: Tensor):\n",
    "    result = []\n",
    "    h, w = matrix.shape\n",
    "    for row_index in range(h):\n",
    "        for col_index in range(w):\n",
    "            if matrix[row_index, col_index] == 0:\n",
    "                result.append((row_index, col_index))\n",
    "    return result"
   ]
  },
  {
   "cell_type": "code",
   "execution_count": 131,
   "metadata": {},
   "outputs": [
    {
     "output_type": "stream",
     "name": "stdout",
     "text": [
      "CPU times: user 1.66 ms, sys: 0 ns, total: 1.66 ms\nWall time: 956 µs\n"
     ]
    }
   ],
   "source": [
    "%%time\n",
    "get_empty_coordinates_loop(matrix)"
   ]
  },
  {
   "cell_type": "code",
   "execution_count": 127,
   "metadata": {},
   "outputs": [
    {
     "output_type": "stream",
     "name": "stdout",
     "text": [
      "CPU times: user 249 µs, sys: 40 µs, total: 289 µs\nWall time: 190 µs\n"
     ]
    },
    {
     "output_type": "execute_result",
     "data": {
      "text/plain": [
       "tensor([[0, 0],\n",
       "        [0, 1],\n",
       "        [0, 2],\n",
       "        [1, 1],\n",
       "        [1, 2],\n",
       "        [2, 0],\n",
       "        [2, 1],\n",
       "        [2, 2],\n",
       "        [2, 3],\n",
       "        [3, 0],\n",
       "        [3, 1],\n",
       "        [3, 2],\n",
       "        [3, 3]])"
      ]
     },
     "metadata": {},
     "execution_count": 127
    }
   ],
   "source": [
    "%%time\n",
    "get_empty_coordinates(matrix)"
   ]
  },
  {
   "cell_type": "code",
   "execution_count": 32,
   "metadata": {},
   "outputs": [
    {
     "output_type": "stream",
     "name": "stdout",
     "text": [
      "CPU times: user 0 ns, sys: 1.25 ms, total: 1.25 ms\nWall time: 879 µs\n"
     ]
    }
   ],
   "source": [
    "%%time\n",
    "for i in range(50):\n",
    "    x = np.zeros((10000, 10000))"
   ]
  },
  {
   "cell_type": "code",
   "execution_count": null,
   "metadata": {},
   "outputs": [],
   "source": [
    "%%time\n"
   ]
  },
  {
   "cell_type": "code",
   "execution_count": null,
   "metadata": {},
   "outputs": [],
   "source": [
    "%%time\n"
   ]
  },
  {
   "cell_type": "code",
   "execution_count": null,
   "metadata": {},
   "outputs": [],
   "source": []
  },
  {
   "cell_type": "code",
   "execution_count": null,
   "metadata": {},
   "outputs": [],
   "source": []
  }
 ]
}